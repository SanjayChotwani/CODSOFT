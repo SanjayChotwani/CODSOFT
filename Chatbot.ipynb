{
  "nbformat": 4,
  "nbformat_minor": 0,
  "metadata": {
    "colab": {
      "provenance": []
    },
    "kernelspec": {
      "name": "python3",
      "display_name": "Python 3"
    },
    "language_info": {
      "name": "python"
    }
  },
  "cells": [
    {
      "cell_type": "code",
      "source": [
        "import re"
      ],
      "metadata": {
        "id": "v7qtRu--1vLQ"
      },
      "execution_count": 11,
      "outputs": []
    },
    {
      "cell_type": "code",
      "source": [
        "# Define the chatbot's responses\n",
        "responses = {\n",
        "    \"hello\": \"Hello! How can I assist you today?\",\n",
        "    \"how are you\": \"I'm just a bot, but I'm here to help!\",\n",
        "    \"what's your name\": \"I'm a chatbot created to assist you.\",\n",
        "    \"bye\": \"Goodbye! Have a great day!\",\n",
        "    \"tell me a joke\": \"Why don't scientists trust atoms? Because they make up everything!\",\n",
        "    \"help\": \"Sure, I'd be happy to help. What do you need?\",\n",
        "    \"weather\": \"I'm sorry, I can't provide real-time information. Please check a weather website.\",\n",
        "    \"age\": \"I don't have an age. I'm a computer program.\",\n",
        "    \"favorite color\": \"I don't have preferences. I'm here to assist you.\",\n",
        "    \"how to contact support\": \"You can contact support by emailing support@example.com or calling 1-800-123-4567.\",\n",
        "    \"order status\": \"To check your order status, log in to your account on our website.\",\n",
        "    \"product information\": \"You can find detailed product information on our website's product pages.\",\n",
        "    \"cancel order\": \"To cancel an order, log in to your account or contact our support team.\",\n",
        "    \"payment methods\": \"We accept credit/debit cards, PayPal, and bank transfers as payment methods.\",\n",
        "    \"tracking number\": \"Your tracking number can be found in your order confirmation email.\",\n",
        "    \"default\": \"I'm sorry, I didn't quite understand that. Could you please rephrase?\"\n",
        "}"
      ],
      "metadata": {
        "id": "wBGDJLmw1HNY"
      },
      "execution_count": 12,
      "outputs": []
    },
    {
      "cell_type": "code",
      "source": [
        "# Define patterns for rule-based responses\n",
        "patterns = {\n",
        "    re.compile(r'.*\\bhello\\b.*', re.IGNORECASE): \"hello\",\n",
        "    re.compile(r'.*\\bhow are you\\b.*', re.IGNORECASE): \"how are you\",\n",
        "    re.compile(r'.*\\bwhat\\'s your name\\b.*', re.IGNORECASE): \"what's your name\",\n",
        "    re.compile(r'.*\\bbye\\b.*', re.IGNORECASE): \"bye\",\n",
        "    re.compile(r'.*\\bjoke\\b.*', re.IGNORECASE): \"tell me a joke\",\n",
        "    re.compile(r'.*\\bhelp\\b.*', re.IGNORECASE): \"help\",\n",
        "    re.compile(r'.*\\bweather\\b.*', re.IGNORECASE): \"weather\",\n",
        "    re.compile(r'.*\\bage\\b.*', re.IGNORECASE): \"age\",\n",
        "    re.compile(r'.*\\bfavorite color\\b.*', re.IGNORECASE): \"favorite color\",\n",
        "    re.compile(r'.*\\bhow to contact support\\b.*', re.IGNORECASE): \"how to contact support\",\n",
        "    re.compile(r'.*\\border status\\b.*', re.IGNORECASE): \"order status\",\n",
        "    re.compile(r'.*\\bproduct information\\b.*', re.IGNORECASE): \"product information\",\n",
        "    re.compile(r'.*\\bcancel order\\b.*', re.IGNORECASE): \"cancel order\",\n",
        "    re.compile(r'.*\\bpayment methods\\b.*', re.IGNORECASE): \"payment methods\",\n",
        "    re.compile(r'.*\\btracking number\\b.*', re.IGNORECASE): \"tracking number\"\n",
        "}"
      ],
      "metadata": {
        "id": "9m4Dw-oy1NXO"
      },
      "execution_count": 13,
      "outputs": []
    },
    {
      "cell_type": "code",
      "source": [
        "# Chatbot interaction loop\n",
        "def chatbot_response(user_input):\n",
        "    for pattern, response_key in patterns.items():\n",
        "        if pattern.match(user_input):\n",
        "            return responses[response_key]\n",
        "    return responses[\"default\"]\n",
        "\n",
        "print(\"Chatbot: Hello! How can I assist you today? (type 'bye' to exit)\")\n",
        "\n",
        "while True:\n",
        "    user_input = input(\"You: \")\n",
        "    if user_input.lower() == \"bye\":\n",
        "        print(\"Chatbot: Goodbye! Have a great day!\")\n",
        "        break\n",
        "    response = chatbot_response(user_input)\n",
        "    print(\"Chatbot:\", response)"
      ],
      "metadata": {
        "colab": {
          "base_uri": "https://localhost:8080/"
        },
        "id": "a8sdh80K1R3d",
        "outputId": "648753cc-1f16-4fac-940b-d49a878fe0e8"
      },
      "execution_count": 14,
      "outputs": [
        {
          "output_type": "stream",
          "name": "stdout",
          "text": [
            "Chatbot: Hello! How can I assist you today? (type 'bye' to exit)\n",
            "You: hello\n",
            "Chatbot: Hello! How can I assist you today?\n",
            "You: what's your name\n",
            "Chatbot: I'm a chatbot created to assist you.\n",
            "You: payment methods\n",
            "Chatbot: We accept credit/debit cards, PayPal, and bank transfers as payment methods.\n",
            "You: tracking number\n",
            "Chatbot: Your tracking number can be found in your order confirmation email.\n",
            "You: tell me a joke\n",
            "Chatbot: Why don't scientists trust atoms? Because they make up everything!\n",
            "You: bye\n",
            "Chatbot: Goodbye! Have a great day!\n"
          ]
        }
      ]
    }
  ]
}