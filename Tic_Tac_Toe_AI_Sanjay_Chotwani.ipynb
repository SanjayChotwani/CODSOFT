{
  "nbformat": 4,
  "nbformat_minor": 0,
  "metadata": {
    "colab": {
      "provenance": []
    },
    "kernelspec": {
      "name": "python3",
      "display_name": "Python 3"
    },
    "language_info": {
      "name": "python"
    }
  },
  "cells": [
    {
      "cell_type": "code",
      "source": [
        "#Play with bot\n",
        "\n",
        "\n",
        "import random\n",
        "\n",
        "def print_board(board):\n",
        "    for row in board:\n",
        "        print(\" | \".join(row))\n",
        "        print(\"-\" * 9)\n",
        "\n"
      ],
      "metadata": {
        "id": "0_pOKqMRwivT"
      },
      "execution_count": 20,
      "outputs": []
    },
    {
      "cell_type": "code",
      "source": [
        "def check_win(board, player):\n",
        "    for row in board:\n",
        "        if all(cell == player for cell in row):\n",
        "            return True\n",
        "\n",
        "    for col in range(3):\n",
        "        if all(board[row][col] == player for row in range(3)):\n",
        "            return True\n",
        "\n",
        "    if all(board[i][i] == player for i in range(3)):\n",
        "        return True\n",
        "\n",
        "    if all(board[i][2-i] == player for i in range(3)):\n",
        "        return True\n",
        "\n",
        "    return False\n",
        "\n"
      ],
      "metadata": {
        "id": "VcUoiINswvbT"
      },
      "execution_count": 21,
      "outputs": []
    },
    {
      "cell_type": "code",
      "source": [
        "def get_empty_cells(board):\n",
        "    return [(row, col) for row in range(3) for col in range(3) if board[row][col] == \" \"]\n",
        "\n"
      ],
      "metadata": {
        "id": "c2thOqnmw2hs"
      },
      "execution_count": 22,
      "outputs": []
    },
    {
      "cell_type": "code",
      "source": [
        "def human_move(board, player):\n",
        "    while True:\n",
        "        try:\n",
        "            row = int(input(f\"Player {player}, enter row (0-2): \"))\n",
        "            col = int(input(f\"Player {player}, enter column (0-2): \"))\n",
        "            if board[row][col] == \" \":\n",
        "                return row, col\n",
        "            else:\n",
        "                print(\"Cell is already taken. Try again.\")\n",
        "        except (ValueError, IndexError):\n",
        "            print(\"Invalid input. Try again.\")\n",
        "\n"
      ],
      "metadata": {
        "id": "siGP_gjtw7Dq"
      },
      "execution_count": 23,
      "outputs": []
    },
    {
      "cell_type": "code",
      "source": [
        "def bot_move(board, bot_player, human_player):\n",
        "    # Check if bot can win in the next move\n",
        "    for row, col in get_empty_cells(board):\n",
        "        board[row][col] = bot_player\n",
        "        if check_win(board, bot_player):\n",
        "            return row, col\n",
        "        board[row][col] = \" \"\n",
        "\n",
        "    # Check if human can win in the next move\n",
        "    for row, col in get_empty_cells(board):\n",
        "        board[row][col] = human_player\n",
        "        if check_win(board, human_player):\n",
        "            return row, col\n",
        "        board[row][col] = \" \"\n",
        "\n",
        "    # If no winning moves, choose a random empty cell\n",
        "    return random.choice(get_empty_cells(board))\n",
        "\n"
      ],
      "metadata": {
        "id": "X4ZD6uaTw-ei"
      },
      "execution_count": 24,
      "outputs": []
    },
    {
      "cell_type": "code",
      "source": [
        "def play_game():\n",
        "    board = [[\" \" for _ in range(3)] for _ in range(3)]\n",
        "    players = [\"X\", \"O\"]\n",
        "    random.shuffle(players)\n",
        "    bot_player = players[0]\n",
        "    human_player = players[1]\n",
        "\n",
        "    print(\"Bot is playing as:\", bot_player)\n",
        "\n",
        "    for turn in range(9):\n",
        "        print_board(board)\n",
        "\n",
        "        if turn % 2 == 0:\n",
        "            if bot_player == \"X\":\n",
        "                row, col = bot_move(board, bot_player, human_player)\n",
        "            else:\n",
        "                row, col = human_move(board, human_player)\n",
        "        else:\n",
        "            if bot_player == \"O\":\n",
        "                row, col = bot_move(board, bot_player, human_player)\n",
        "            else:\n",
        "                row, col = human_move(board, human_player)\n",
        "\n",
        "        board[row][col] = bot_player if turn % 2 == 0 else human_player\n",
        "\n",
        "        if check_win(board, bot_player):\n",
        "            print_board(board)\n",
        "            print(\"Bot wins!\")\n",
        "            return\n",
        "        if check_win(board, human_player):\n",
        "            print_board(board)\n",
        "            print(\"Human wins!\")\n",
        "            return\n",
        "\n",
        "    print_board(board)\n",
        "    print(\"It's a draw!\")\n",
        "\n",
        "if __name__ == \"__main__\":\n",
        "    play_game()\n"
      ],
      "metadata": {
        "colab": {
          "base_uri": "https://localhost:8080/"
        },
        "id": "HNexOPHoxFIS",
        "outputId": "a1da7d6d-b153-4c32-9500-ff6c841d4759"
      },
      "execution_count": 25,
      "outputs": [
        {
          "output_type": "stream",
          "name": "stdout",
          "text": [
            "Bot is playing as: X\n",
            "  |   |  \n",
            "---------\n",
            "  |   |  \n",
            "---------\n",
            "  |   |  \n",
            "---------\n",
            "  |   |  \n",
            "---------\n",
            "  |   | X\n",
            "---------\n",
            "  |   |  \n",
            "---------\n",
            "Player O, enter row (0-2): \n",
            "Invalid input. Try again.\n",
            "Player O, enter row (0-2): 1\n",
            "Player O, enter column (0-2): 2\n",
            "Cell is already taken. Try again.\n",
            "Player O, enter row (0-2): 0\n",
            "Player O, enter column (0-2): 1\n",
            "  | O |  \n",
            "---------\n",
            "  |   | X\n",
            "---------\n",
            "  |   |  \n",
            "---------\n",
            "  | O |  \n",
            "---------\n",
            "  | X | X\n",
            "---------\n",
            "  |   |  \n",
            "---------\n",
            "Player O, enter row (0-2): 0\n",
            "Player O, enter column (0-2): 1\n",
            "Cell is already taken. Try again.\n",
            "Player O, enter row (0-2): 2\n",
            "Player O, enter column (0-2): 1\n",
            "  | O |  \n",
            "---------\n",
            "  | X | X\n",
            "---------\n",
            "  | O |  \n",
            "---------\n",
            "  | O |  \n",
            "---------\n",
            "X | X | X\n",
            "---------\n",
            "  | O |  \n",
            "---------\n",
            "Bot wins!\n"
          ]
        }
      ]
    }
  ]
}